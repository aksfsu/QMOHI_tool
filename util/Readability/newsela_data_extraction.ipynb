{
 "cells": [
  {
   "cell_type": "code",
   "execution_count": 2,
   "id": "b451cbb2",
   "metadata": {},
   "outputs": [],
   "source": [
    "import pandas as pd\n",
    "import json\n",
    "import matplotlib.pyplot as plt"
   ]
  },
  {
   "cell_type": "code",
   "execution_count": 3,
   "id": "54f6ec62",
   "metadata": {},
   "outputs": [
    {
     "name": "stdout",
     "output_type": "stream",
     "text": [
      "Genres: ['War & Peace' 'Kids' 'Money' 'Science' 'Health' 'Law' 'Sports' 'Arts']\n"
     ]
    },
    {
     "data": {
      "text/html": [
       "<div>\n",
       "<style scoped>\n",
       "    .dataframe tbody tr th:only-of-type {\n",
       "        vertical-align: middle;\n",
       "    }\n",
       "\n",
       "    .dataframe tbody tr th {\n",
       "        vertical-align: top;\n",
       "    }\n",
       "\n",
       "    .dataframe thead th {\n",
       "        text-align: right;\n",
       "    }\n",
       "</style>\n",
       "<table border=\"1\" class=\"dataframe\">\n",
       "  <thead>\n",
       "    <tr style=\"text-align: right;\">\n",
       "      <th></th>\n",
       "      <th>grade_level</th>\n",
       "      <th>sentences</th>\n",
       "    </tr>\n",
       "  </thead>\n",
       "  <tbody>\n",
       "    <tr>\n",
       "      <th>30</th>\n",
       "      <td>4.0</td>\n",
       "      <td>[Chris Christie is governor of New Jersey ., I...</td>\n",
       "    </tr>\n",
       "    <tr>\n",
       "      <th>31</th>\n",
       "      <td>5.0</td>\n",
       "      <td>[Chris Christie is the governor of New Jersey ...</td>\n",
       "    </tr>\n",
       "    <tr>\n",
       "      <th>32</th>\n",
       "      <td>6.0</td>\n",
       "      <td>[New Jersey Governor Chris Christie appeared o...</td>\n",
       "    </tr>\n",
       "    <tr>\n",
       "      <th>33</th>\n",
       "      <td>8.0</td>\n",
       "      <td>[New Jersey Governor Chris Christie chomped do...</td>\n",
       "    </tr>\n",
       "    <tr>\n",
       "      <th>34</th>\n",
       "      <td>12.0</td>\n",
       "      <td>[Governor Chis Christie of New Jersey chomped ...</td>\n",
       "    </tr>\n",
       "  </tbody>\n",
       "</table>\n",
       "</div>"
      ],
      "text/plain": [
       "    grade_level                                          sentences\n",
       "30          4.0  [Chris Christie is governor of New Jersey ., I...\n",
       "31          5.0  [Chris Christie is the governor of New Jersey ...\n",
       "32          6.0  [New Jersey Governor Chris Christie appeared o...\n",
       "33          8.0  [New Jersey Governor Chris Christie chomped do...\n",
       "34         12.0  [Governor Chis Christie of New Jersey chomped ..."
      ]
     },
     "execution_count": 3,
     "metadata": {},
     "output_type": "execute_result"
    }
   ],
   "source": [
    "with open('newsela_article_corpus_2016-01-29/newsela_data_share-20150302/newsela_articles_20150302.5versions.sents.json','r') as f:\n",
    "    data = json.loads(f.read())\n",
    "\n",
    "norm_train_df = pd.json_normalize(data, record_path=['articles'], meta=[['category', 'name'], 'language'], errors='ignore')\n",
    "print(f\"Genres: {norm_train_df['category.name'].unique()}\")\n",
    "norm_train_df = norm_train_df[norm_train_df['language'] == 'en']\n",
    "norm_train_df = norm_train_df[norm_train_df['category.name'] == 'Health'][['grade_level', 'sentences']]\n",
    "# norm_train_df['sentences'] = norm_train_df.apply(lambda row: \" \".join(row['sentences']), axis=1) # Convert each list of sentences into a plain text\n",
    "norm_train_df.head()"
   ]
  },
  {
   "cell_type": "code",
   "execution_count": 4,
   "id": "f46e5b08",
   "metadata": {},
   "outputs": [],
   "source": [
    "norm_train_df.to_csv(\"newsela_health.csv\", index=False)"
   ]
  },
  {
   "cell_type": "code",
   "execution_count": 5,
   "id": "2bdf4db8",
   "metadata": {},
   "outputs": [
    {
     "data": {
      "text/plain": [
       "<AxesSubplot:ylabel='Frequency'>"
      ]
     },
     "execution_count": 5,
     "metadata": {},
     "output_type": "execute_result"
    },
    {
     "data": {
      "image/png": "[encoded data removed]",
      "text/plain": [
       "<Figure size 720x576 with 1 Axes>"
      ]
     },
     "metadata": {
      "needs_background": "light"
     },
     "output_type": "display_data"
    }
   ],
   "source": [
    "norm_train_df.plot.hist(column=['grade_level'], figsize=(10, 8))"
   ]
  }
 ],
 "metadata": {
  "kernelspec": {
   "display_name": "Python 3 (ipykernel)",
   "language": "python",
   "name": "python3"
  },
  "language_info": {
   "codemirror_mode": {
    "name": "ipython",
    "version": 3
   },
   "file_extension": ".py",
   "mimetype": "text/x-python",
   "name": "python",
   "nbconvert_exporter": "python",
   "pygments_lexer": "ipython3",
   "version": "3.8.12"
  }
 },
 "nbformat": 4,
 "nbformat_minor": 5
}
