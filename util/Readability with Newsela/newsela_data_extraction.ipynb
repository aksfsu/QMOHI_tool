{
 "cells": [
  {
   "cell_type": "code",
   "execution_count": 1,
   "id": "b451cbb2",
   "metadata": {},
   "outputs": [],
   "source": [
    "import pandas as pd\n",
    "import json"
   ]
  },
  {
   "cell_type": "code",
   "execution_count": 12,
   "id": "54f6ec62",
   "metadata": {},
   "outputs": [
    {
     "name": "stdout",
     "output_type": "stream",
     "text": [
      "Genres: ['War & Peace' 'Kids' 'Money' 'Science' 'Health' 'Law' 'Sports' 'Arts']\n"
     ]
    },
    {
     "data": {
      "text/html": [
       "<div>\n",
       "<style scoped>\n",
       "    .dataframe tbody tr th:only-of-type {\n",
       "        vertical-align: middle;\n",
       "    }\n",
       "\n",
       "    .dataframe tbody tr th {\n",
       "        vertical-align: top;\n",
       "    }\n",
       "\n",
       "    .dataframe thead th {\n",
       "        text-align: right;\n",
       "    }\n",
       "</style>\n",
       "<table border=\"1\" class=\"dataframe\">\n",
       "  <thead>\n",
       "    <tr style=\"text-align: right;\">\n",
       "      <th></th>\n",
       "      <th>grade_level</th>\n",
       "      <th>sentences</th>\n",
       "    </tr>\n",
       "  </thead>\n",
       "  <tbody>\n",
       "    <tr>\n",
       "      <th>0</th>\n",
       "      <td>3.0</td>\n",
       "      <td>[American women will soon be able to fight in ...</td>\n",
       "    </tr>\n",
       "    <tr>\n",
       "      <th>1</th>\n",
       "      <td>5.0</td>\n",
       "      <td>[American women will soon be able to go to war...</td>\n",
       "    </tr>\n",
       "    <tr>\n",
       "      <th>2</th>\n",
       "      <td>6.0</td>\n",
       "      <td>[American women will soon be able to fight on ...</td>\n",
       "    </tr>\n",
       "    <tr>\n",
       "      <th>3</th>\n",
       "      <td>7.0</td>\n",
       "      <td>[American women will soon be free to fight on ...</td>\n",
       "    </tr>\n",
       "    <tr>\n",
       "      <th>4</th>\n",
       "      <td>9.0</td>\n",
       "      <td>[Wars of the future will be fought with Americ...</td>\n",
       "    </tr>\n",
       "  </tbody>\n",
       "</table>\n",
       "</div>"
      ],
      "text/plain": [
       "   grade_level                                          sentences\n",
       "0          3.0  [American women will soon be able to fight in ...\n",
       "1          5.0  [American women will soon be able to go to war...\n",
       "2          6.0  [American women will soon be able to fight on ...\n",
       "3          7.0  [American women will soon be free to fight on ...\n",
       "4          9.0  [Wars of the future will be fought with Americ..."
      ]
     },
     "execution_count": 12,
     "metadata": {},
     "output_type": "execute_result"
    }
   ],
   "source": [
    "with open('newsela_article_corpus_2016-01-29/newsela_data_share-20150302/newsela_articles_20150302.5versions.sents.json','r') as f:\n",
    "    data = json.loads(f.read())\n",
    "\n",
    "norm_train_df = pd.json_normalize(data, record_path=['articles'], meta=[['category', 'name'], 'language'], errors='ignore')\n",
    "print(f\"Genres: {norm_train_df['category.name'].unique()}\")\n",
    "norm_train_df = norm_train_df[norm_train_df['language'] == 'en']\n",
    "norm_train_df = norm_train_df[norm_train_df['category.name'] == 'Health'][['grade_level', 'sentences']]\n",
    "# norm_train_df['sentences'] = norm_train_df.apply(lambda row: \" \".join(row['sentences']), axis=1)\n",
    "norm_train_df.head()"
   ]
  },
  {
   "cell_type": "code",
   "execution_count": 13,
   "id": "f46e5b08",
   "metadata": {},
   "outputs": [],
   "source": [
    "norm_train_df.to_csv(\"newsela_health.csv\", index=False)"
   ]
  },
  {
   "cell_type": "code",
   "execution_count": 14,
   "id": "4d750ea6",
   "metadata": {},
   "outputs": [],
   "source": [
    "from sklearn.model_selection import train_test_split\n",
    "\n",
    "train_df, test_df = train_test_split(norm_train_df, test_size=0.2, random_state=42, shuffle=False)\n"
   ]
  },
  {
   "cell_type": "code",
   "execution_count": 16,
   "id": "2bdf4db8",
   "metadata": {},
   "outputs": [
    {
     "data": {
      "text/plain": [
       "0        3.0\n",
       "1        5.0\n",
       "2        6.0\n",
       "3        7.0\n",
       "4        9.0\n",
       "        ... \n",
       "4515     4.0\n",
       "4516     5.0\n",
       "4517     6.0\n",
       "4518     8.0\n",
       "4519    12.0\n",
       "Name: grade_level, Length: 4520, dtype: float64"
      ]
     },
     "execution_count": 16,
     "metadata": {},
     "output_type": "execute_result"
    }
   ],
   "source": [
    "train_df['grade_level']"
   ]
  },
  {
   "cell_type": "code",
   "execution_count": null,
   "id": "d4b43787",
   "metadata": {},
   "outputs": [],
   "source": []
  }
 ],
 "metadata": {
  "kernelspec": {
   "display_name": "Python 3 (ipykernel)",
   "language": "python",
   "name": "python3"
  },
  "language_info": {
   "codemirror_mode": {
    "name": "ipython",
    "version": 3
   },
   "file_extension": ".py",
   "mimetype": "text/x-python",
   "name": "python",
   "nbconvert_exporter": "python",
   "pygments_lexer": "ipython3",
   "version": "3.9.15"
  }
 },
 "nbformat": 4,
 "nbformat_minor": 5
}
